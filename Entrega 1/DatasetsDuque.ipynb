{
 "cells": [
  {
   "attachments": {},
   "cell_type": "markdown",
   "metadata": {},
   "source": [
    "# Datasets de Tomás Duque\n"
   ]
  },
  {
   "cell_type": "code",
   "execution_count": 1,
   "metadata": {},
   "outputs": [],
   "source": [
    "import pandas as pd"
   ]
  },
  {
   "attachments": {},
   "cell_type": "markdown",
   "metadata": {},
   "source": [
    "## Dataset 1: Covid\n",
    "\n",
    " El dataset \"Covid\" contiene información relacionada con casos de COVID-19. Incluye datos sobre pacientes afectados por la enfermedad, como su nivel de atención médica, unidad médica asignada, sexo, tipo de paciente, fecha de fallecimiento, intubación, neumonía, edad, embarazo, diabetes, enfermedad pulmonar obstructiva crónica (COPD), asma, inmunosupresión, hipertensión, otras enfermedades, enfermedades cardiovasculares, obesidad, enfermedad renal crónica, tabaquismo, clasificación final y admisión a la unidad de cuidados intensivos (UCI). Estos datos pueden utilizarse para realizar análisis y estudios epidemiológicos relacionados con la pandemia de COVID-19.\n",
    "\n",
    "USMER: Esta columna indica el nivel de atención médica requerido por el paciente. Los posibles valores pueden ser \"1\" para atención ambulatoria, \"2\" para hospitalización y \"3\" para hospitalización en unidad de cuidados intensivos (UCI).\n",
    "\n",
    "MEDICAL_UNIT: Representa la unidad médica a la que fue asignado el paciente. Esta columna puede contener información sobre el lugar donde se está tratando al paciente.\n",
    "\n",
    "SEX: Indica el sexo del paciente. Los valores posibles son \"M\" para masculino y \"F\" para femenino.\n",
    "\n",
    "PATIENT_TYPE: Esta columna indica si el paciente es ambulatorio (\"1\") o está hospitalizado (\"2\").\n",
    "\n",
    "DATE_DIED: Representa la fecha de fallecimiento del paciente, si aplica. Si el paciente no falleció, el valor será nulo.\n",
    "\n",
    "INTUBED: Indica si el paciente fue intubado o no. Los valores posibles son \"1\" para sí, \"2\" para no y \"97\" para datos no aplicables.\n",
    "\n",
    "PNEUMONIA: Esta columna registra si el paciente ha desarrollado neumonía. Los valores posibles son \"1\" para sí, \"2\" para no y \"97\" para datos no aplicables.\n",
    "\n",
    "AGE: Representa la edad del paciente.\n",
    "\n",
    "DIABETES: Indica si el paciente tiene diabetes. Los valores posibles son \"1\" para sí, \"2\" para no y \"97\" para datos no aplicables.\n",
    "\n",
    "OBESITY: Esta columna registra si el paciente tiene obesidad. Los valores posibles son \"1\" para sí, \"2\" para no y \"97\" para datos no aplicables.\n",
    "\n",
    "RENAL_CHRONIC: Indica si el paciente tiene enfermedad renal crónica. Los valores posibles son \"1\" para sí, \"2\" para no y \"97\" para datos no aplicables.\n",
    "\n",
    "TOBACCO: Representa si el paciente es fumador o no. Los valores posibles son \"1\" para sí, \"2\" para no y \"97\" para datos no aplicables.\n",
    "\n",
    "ICU: Indica si el paciente fue admitido a una unidad de cuidados intensivos (UCI). Los valores posibles son \"1\" para sí, \"2\" para no y \"97\" para datos no aplicables."
   ]
  },
  {
   "cell_type": "code",
   "execution_count": 5,
   "metadata": {},
   "outputs": [],
   "source": [
    "# Cargando el dataset Covid\n",
    "covid_path = \"Data Set 1/Covid.csv\"\n",
    "covid_df = pd.read_csv(covid_path)"
   ]
  },
  {
   "cell_type": "code",
   "execution_count": 25,
   "metadata": {},
   "outputs": [
    {
     "name": "stdout",
     "output_type": "stream",
     "text": [
      "Cantidad de registros en el dataset Covid: 1048575\n"
     ]
    }
   ],
   "source": [
    "# Mostrar la cantidad de registros en el dataset\n",
    "print(\"Cantidad de registros en el dataset Covid:\", len(covid_df))\n",
    "\n"
   ]
  },
  {
   "cell_type": "code",
   "execution_count": 24,
   "metadata": {},
   "outputs": [
    {
     "name": "stdout",
     "output_type": "stream",
     "text": [
      "Primeras 5 filas del dataset Covid:\n",
      "   USMER  MEDICAL_UNIT  SEX  PATIENT_TYPE   DATE_DIED  INTUBED  PNEUMONIA  \\\n",
      "0      2             1    1             1  03/05/2020       97          1   \n",
      "1      2             1    2             1  03/06/2020       97          1   \n",
      "2      2             1    2             2  09/06/2020        1          2   \n",
      "3      2             1    1             1  12/06/2020       97          2   \n",
      "4      2             1    2             1  21/06/2020       97          2   \n",
      "\n",
      "   AGE  PREGNANT  DIABETES  ...  ASTHMA  INMSUPR  HIPERTENSION  OTHER_DISEASE  \\\n",
      "0   65         2         2  ...       2        2             1              2   \n",
      "1   72        97         2  ...       2        2             1              2   \n",
      "2   55        97         1  ...       2        2             2              2   \n",
      "3   53         2         2  ...       2        2             2              2   \n",
      "4   68        97         1  ...       2        2             1              2   \n",
      "\n",
      "   CARDIOVASCULAR  OBESITY  RENAL_CHRONIC  TOBACCO  CLASIFFICATION_FINAL  ICU  \n",
      "0               2        2              2        2                     3   97  \n",
      "1               2        1              1        2                     5   97  \n",
      "2               2        2              2        2                     3    2  \n",
      "3               2        2              2        2                     7   97  \n",
      "4               2        2              2        2                     3   97  \n",
      "\n",
      "[5 rows x 21 columns]\n"
     ]
    }
   ],
   "source": [
    "# Mostrar las primeras 5 filas del dataset\n",
    "print(\"Primeras 5 filas del dataset Covid:\")\n",
    "print(covid_df.head())\n",
    "\n"
   ]
  },
  {
   "cell_type": "code",
   "execution_count": 23,
   "metadata": {},
   "outputs": [
    {
     "name": "stdout",
     "output_type": "stream",
     "text": [
      "Estadísticas básicas del dataset Covid:\n",
      "              USMER  MEDICAL_UNIT           SEX  PATIENT_TYPE       INTUBED  \\\n",
      "count  1.048575e+06  1.048575e+06  1.048575e+06  1.048575e+06  1.048575e+06   \n",
      "mean   1.632194e+00  8.980565e+00  1.499259e+00  1.190765e+00  7.952288e+01   \n",
      "std    4.822084e-01  3.723278e+00  4.999997e-01  3.929041e-01  3.686889e+01   \n",
      "min    1.000000e+00  1.000000e+00  1.000000e+00  1.000000e+00  1.000000e+00   \n",
      "25%    1.000000e+00  4.000000e+00  1.000000e+00  1.000000e+00  9.700000e+01   \n",
      "50%    2.000000e+00  1.200000e+01  1.000000e+00  1.000000e+00  9.700000e+01   \n",
      "75%    2.000000e+00  1.200000e+01  2.000000e+00  1.000000e+00  9.700000e+01   \n",
      "max    2.000000e+00  1.300000e+01  2.000000e+00  2.000000e+00  9.900000e+01   \n",
      "\n",
      "          PNEUMONIA           AGE      PREGNANT      DIABETES          COPD  \\\n",
      "count  1.048575e+06  1.048575e+06  1.048575e+06  1.048575e+06  1.048575e+06   \n",
      "mean   3.346831e+00  4.179410e+01  4.976558e+01  2.186404e+00  2.260569e+00   \n",
      "std    1.191288e+01  1.690739e+01  4.751073e+01  5.424242e+00  5.132258e+00   \n",
      "min    1.000000e+00  0.000000e+00  1.000000e+00  1.000000e+00  1.000000e+00   \n",
      "25%    2.000000e+00  3.000000e+01  2.000000e+00  2.000000e+00  2.000000e+00   \n",
      "50%    2.000000e+00  4.000000e+01  9.700000e+01  2.000000e+00  2.000000e+00   \n",
      "75%    2.000000e+00  5.300000e+01  9.700000e+01  2.000000e+00  2.000000e+00   \n",
      "max    9.900000e+01  1.210000e+02  9.800000e+01  9.800000e+01  9.800000e+01   \n",
      "\n",
      "             ASTHMA       INMSUPR  HIPERTENSION  OTHER_DISEASE  \\\n",
      "count  1.048575e+06  1.048575e+06  1.048575e+06   1.048575e+06   \n",
      "mean   2.242626e+00  2.298132e+00  2.128989e+00   2.435143e+00   \n",
      "std    5.114089e+00  5.462843e+00  5.236397e+00   6.646676e+00   \n",
      "min    1.000000e+00  1.000000e+00  1.000000e+00   1.000000e+00   \n",
      "25%    2.000000e+00  2.000000e+00  2.000000e+00   2.000000e+00   \n",
      "50%    2.000000e+00  2.000000e+00  2.000000e+00   2.000000e+00   \n",
      "75%    2.000000e+00  2.000000e+00  2.000000e+00   2.000000e+00   \n",
      "max    9.800000e+01  9.800000e+01  9.800000e+01   9.800000e+01   \n",
      "\n",
      "       CARDIOVASCULAR       OBESITY  RENAL_CHRONIC       TOBACCO  \\\n",
      "count    1.048575e+06  1.048575e+06   1.048575e+06  1.048575e+06   \n",
      "mean     2.261810e+00  2.125176e+00   2.257180e+00  2.214333e+00   \n",
      "std      5.194850e+00  5.175445e+00   5.135354e+00  5.323097e+00   \n",
      "min      1.000000e+00  1.000000e+00   1.000000e+00  1.000000e+00   \n",
      "25%      2.000000e+00  2.000000e+00   2.000000e+00  2.000000e+00   \n",
      "50%      2.000000e+00  2.000000e+00   2.000000e+00  2.000000e+00   \n",
      "75%      2.000000e+00  2.000000e+00   2.000000e+00  2.000000e+00   \n",
      "max      9.800000e+01  9.800000e+01   9.800000e+01  9.800000e+01   \n",
      "\n",
      "       CLASIFFICATION_FINAL           ICU  \n",
      "count          1.048575e+06  1.048575e+06  \n",
      "mean           5.305653e+00  7.955397e+01  \n",
      "std            1.881165e+00  3.682307e+01  \n",
      "min            1.000000e+00  1.000000e+00  \n",
      "25%            3.000000e+00  9.700000e+01  \n",
      "50%            6.000000e+00  9.700000e+01  \n",
      "75%            7.000000e+00  9.700000e+01  \n",
      "max            7.000000e+00  9.900000e+01  \n"
     ]
    }
   ],
   "source": [
    "# Obtener estadísticas básicas de las columnas numéricas\n",
    "print(\"Estadísticas básicas del dataset Covid:\")\n",
    "print(covid_df.describe())\n",
    "\n"
   ]
  },
  {
   "cell_type": "code",
   "execution_count": 22,
   "metadata": {},
   "outputs": [
    {
     "name": "stdout",
     "output_type": "stream",
     "text": [
      "Cantidad de pacientes por nivel de atención médica:\n",
      "2    662903\n",
      "1    385672\n",
      "Name: USMER, dtype: int64\n"
     ]
    }
   ],
   "source": [
    "# Contar la cantidad de pacientes por nivel de atención médica\n",
    "print(\"Cantidad de pacientes por nivel de atención médica:\")\n",
    "print(covid_df['USMER'].value_counts())\n",
    "\n"
   ]
  },
  {
   "cell_type": "code",
   "execution_count": 21,
   "metadata": {},
   "outputs": [
    {
     "name": "stdout",
     "output_type": "stream",
     "text": [
      "Promedio de edad de los pacientes: 41.794102472403026\n"
     ]
    }
   ],
   "source": [
    "# Calcular el promedio de edad de los pacientes\n",
    "promedio_edad = covid_df['AGE'].mean()\n",
    "print(\"Promedio de edad de los pacientes:\", promedio_edad)"
   ]
  },
  {
   "attachments": {},
   "cell_type": "markdown",
   "metadata": {},
   "source": [
    "## Dataset 2: Titan"
   ]
  },
  {
   "attachments": {},
   "cell_type": "markdown",
   "metadata": {},
   "source": [
    "El dataset \"Titan\" contiene información sobre los movimientos de un stock en el mercado de la empresa Titan. Incluye datos como la fecha de los movimientos, el símbolo del stock, la serie del stock, precios de apertura y cierre, precios máximos y mínimos alcanzados durante la sesión, el volumen de transacciones, el monto total de las transacciones, el número de operaciones realizadas y el volumen de acciones entregadas físicamente en las transacciones. Estos datos pueden utilizarse para analizar y estudiar el comportamiento y rendimiento del stock de la empresa Titan en el mercado.\n",
    "\n",
    "\n",
    "Date: Esta columna representa la fecha de los movimientos en el mercado del stock de la empresa Titan.\n",
    "\n",
    "Symbol: Indica el símbolo del stock de la empresa Titan.\n",
    "\n",
    "Series: Representa la serie del stock.\n",
    "\n",
    "Prev Close: Es el precio de cierre del stock en la sesión anterior.\n",
    "\n",
    "Open: Representa el precio de apertura del stock en la sesión actual.\n",
    "\n",
    "High: Indica el precio más alto alcanzado por el stock durante la sesión actual.\n",
    "\n",
    "Low: Representa el precio más bajo alcanzado por el stock durante la sesión actual.\n",
    "\n",
    "Last: Es el precio de la última transacción realizada en el stock durante la sesión actual.\n",
    "\n",
    "Close: Indica el precio de cierre del stock al final de la sesión actual.\n",
    "\n",
    "VWAP: Representa el precio promedio ponderado por volumen (Volume Weighted Average Price) del stock durante la sesión actual.\n",
    "\n",
    "Volume: Indica el volumen de transacciones realizado para el stock durante la sesión actual.\n",
    "\n",
    "Turnover: Representa el monto total de las transacciones realizadas para el stock durante la sesión actual.\n",
    "\n",
    "Trades: Indica el número total de operaciones realizadas para el stock durante la sesión actual.\n",
    "\n",
    "Deliverable Volume: Representa el volumen de acciones entregadas físicamente en las transacciones realizadas para el stock durante la sesión actual.\n",
    "\n",
    "%Deliverble: Indica el porcentaje de acciones entregadas físicamente en relación con el volumen total de transacciones para el stock durante la sesión actual."
   ]
  },
  {
   "attachments": {},
   "cell_type": "markdown",
   "metadata": {},
   "source": [
    "### Importamos el Data Set"
   ]
  },
  {
   "cell_type": "code",
   "execution_count": 7,
   "metadata": {},
   "outputs": [],
   "source": [
    "# Cargando el dataset Titan\n",
    "titan_path = \"Data Set 2/Titan.csv\"\n",
    "titan_df = pd.read_csv(titan_path)"
   ]
  },
  {
   "attachments": {},
   "cell_type": "markdown",
   "metadata": {},
   "source": [
    "### Hacemos Pruebas con el Data Set"
   ]
  },
  {
   "cell_type": "code",
   "execution_count": 8,
   "metadata": {},
   "outputs": [
    {
     "name": "stdout",
     "output_type": "stream",
     "text": [
      "\n",
      "=== Dataset Titan ===\n",
      "         Date Symbol Series  Prev Close   Open    High    Low    Last   Close  \\\n",
      "0  2000-01-03  TITAN     EQ      144.95  146.0  156.45  146.0  155.00  155.70   \n",
      "1  2000-01-04  TITAN     EQ      155.70  152.0  152.00  144.0  148.05  147.40   \n",
      "2  2000-01-05  TITAN     EQ      147.40  144.0  148.80  136.0  139.95  138.40   \n",
      "3  2000-01-06  TITAN     EQ      138.40  142.0  149.50  141.0  149.50  149.50   \n",
      "4  2000-01-07  TITAN     EQ      149.50  149.5  153.00  145.0  147.75  146.35   \n",
      "\n",
      "     VWAP  Volume      Turnover  Trades  Deliverable Volume  %Deliverble  \n",
      "0  154.36   23000  3.550370e+11     NaN                 NaN          NaN  \n",
      "1  146.72   26300  3.858700e+11     NaN                 NaN          NaN  \n",
      "2  142.95   20600  2.944850e+11     NaN                 NaN          NaN  \n",
      "3  147.87   31600  4.672750e+11     NaN                 NaN          NaN  \n",
      "4  148.63   36600  5.439965e+11     NaN                 NaN          NaN  \n"
     ]
    }
   ],
   "source": [
    "# Mostrar la cantidad de registros en el dataset\n",
    "print(\"Cantidad de registros en el dataset Titan:\", len(titan_df))\n",
    "\n"
   ]
  },
  {
   "cell_type": "code",
   "execution_count": 19,
   "metadata": {},
   "outputs": [
    {
     "name": "stdout",
     "output_type": "stream",
     "text": [
      "Primeras 5 filas del dataset Titan:\n",
      "         Date Symbol Series  Prev Close   Open    High    Low    Last   Close  \\\n",
      "0  2000-01-03  TITAN     EQ      144.95  146.0  156.45  146.0  155.00  155.70   \n",
      "1  2000-01-04  TITAN     EQ      155.70  152.0  152.00  144.0  148.05  147.40   \n",
      "2  2000-01-05  TITAN     EQ      147.40  144.0  148.80  136.0  139.95  138.40   \n",
      "3  2000-01-06  TITAN     EQ      138.40  142.0  149.50  141.0  149.50  149.50   \n",
      "4  2000-01-07  TITAN     EQ      149.50  149.5  153.00  145.0  147.75  146.35   \n",
      "\n",
      "     VWAP  Volume      Turnover  Trades  Deliverable Volume  %Deliverble  \n",
      "0  154.36   23000  3.550370e+11     NaN                 NaN          NaN  \n",
      "1  146.72   26300  3.858700e+11     NaN                 NaN          NaN  \n",
      "2  142.95   20600  2.944850e+11     NaN                 NaN          NaN  \n",
      "3  147.87   31600  4.672750e+11     NaN                 NaN          NaN  \n",
      "4  148.63   36600  5.439965e+11     NaN                 NaN          NaN  \n"
     ]
    }
   ],
   "source": [
    "# Mostrar las primeras 5 filas del dataset\n",
    "print(\"Primeras 5 filas del dataset Titan:\")\n",
    "print(titan_df.head())\n",
    "\n"
   ]
  },
  {
   "cell_type": "code",
   "execution_count": 18,
   "metadata": {},
   "outputs": [
    {
     "name": "stdout",
     "output_type": "stream",
     "text": [
      "Estadísticas básicas del dataset Titan:\n",
      "        Prev Close         Open         High          Low         Last  \\\n",
      "count  5306.000000  5306.000000  5306.000000  5306.000000  5306.000000   \n",
      "mean    709.230692   709.989926   723.312816   696.430767   709.449114   \n",
      "std     785.170900   785.435092   799.085424   772.183889   784.995523   \n",
      "min      27.500000    27.000000    28.800000    27.000000    27.750000   \n",
      "25%     192.262500   192.625000   198.800000   189.500000   192.837500   \n",
      "50%     396.150000   398.250000   404.525000   391.125000   397.025000   \n",
      "75%    1017.725000  1018.925000  1046.500000   991.187500  1020.000000   \n",
      "max    4714.600000  4730.000000  4754.950000  4559.900000  4734.000000   \n",
      "\n",
      "             Close         VWAP        Volume      Turnover         Trades  \\\n",
      "count  5306.000000  5306.000000  5.306000e+03  5.306000e+03    2456.000000   \n",
      "mean    709.484499   710.415443  1.172596e+06  7.796053e+13   47241.859935   \n",
      "std     785.206121   786.266584  1.763858e+06  1.378542e+14   43331.439701   \n",
      "min      27.500000    27.880000  2.000000e+02  8.125000e+08     993.000000   \n",
      "25%     193.412500   194.245000  9.867325e+04  4.299007e+12   18126.500000   \n",
      "50%     396.350000   398.095000  5.491360e+05  2.785515e+13   35076.500000   \n",
      "75%    1019.000000  1016.790000  1.630698e+06  8.382494e+13   63520.250000   \n",
      "max    4714.600000  4647.540000  3.327661e+07  2.451345e+15  536406.000000   \n",
      "\n",
      "       Deliverable Volume  %Deliverble  \n",
      "count        4.792000e+03  4792.000000  \n",
      "mean         4.408763e+05     0.367944  \n",
      "std          7.022005e+05     0.164969  \n",
      "min          3.600000e+02     0.023600  \n",
      "25%          4.992600e+04     0.249000  \n",
      "50%          2.012115e+05     0.352400  \n",
      "75%          6.247118e+05     0.472900  \n",
      "max          2.169911e+07     1.000000  \n"
     ]
    }
   ],
   "source": [
    "# Obtener estadísticas básicas de las columnas numéricas\n",
    "print(\"Estadísticas básicas del dataset Titan:\")\n",
    "print(titan_df.describe())\n",
    "\n"
   ]
  },
  {
   "cell_type": "code",
   "execution_count": 17,
   "metadata": {},
   "outputs": [
    {
     "name": "stdout",
     "output_type": "stream",
     "text": [
      "Promedio de volumen de transacciones: 1172596.481530343\n"
     ]
    }
   ],
   "source": [
    "# Calcular el promedio de volumen de transacciones\n",
    "promedio_volumen = titan_df['Volume'].mean()\n",
    "print(\"Promedio de volumen de transacciones:\", promedio_volumen)\n",
    "\n"
   ]
  },
  {
   "cell_type": "code",
   "execution_count": 16,
   "metadata": {},
   "outputs": [
    {
     "name": "stdout",
     "output_type": "stream",
     "text": [
      "Cantidad de transacciones por serie de stock:\n",
      "EQ    5306\n",
      "Name: Series, dtype: int64\n"
     ]
    }
   ],
   "source": [
    "# Contar la cantidad de transacciones por serie de stock\n",
    "print(\"Cantidad de transacciones por serie de stock:\")\n",
    "print(titan_df['Series'].value_counts())"
   ]
  },
  {
   "attachments": {},
   "cell_type": "markdown",
   "metadata": {},
   "source": [
    "# Data Set 3: Diabetes"
   ]
  },
  {
   "attachments": {},
   "cell_type": "markdown",
   "metadata": {},
   "source": [
    "El dataset \"Diabetes\" contiene datos de pacientes con diabetes recopilados durante un período de 10 años. Incluye información sobre la raza, género, edad, peso, tipo de admisión, tipo de alta, fuente de admisión, tiempo de hospitalización, código de pagador, especialidad médica, procedimientos de laboratorio, medicamentos administrados, visitas ambulatorias, visitas de emergencia, diagnósticos, resultados de pruebas de glucosa en sangre, resultados de A1C, medicamentos específicos para la diabetes, cambios en el tratamiento, si se sigue el tratamiento de la diabetes, y si se produjo una readmisión. Estos datos pueden utilizarse para realizar análisis y estudios relacionados con la diabetes, como el control de la enfermedad, tratamientos y factores de riesgo.\n",
    "\n",
    "\n",
    "race: Esta columna registra la raza del paciente.\n",
    "\n",
    "gender: Indica el género del paciente.\n",
    "\n",
    "age: Representa la edad del paciente.\n",
    "\n",
    "weight: Registra el peso del paciente.\n",
    "\n",
    "admission_type_id: Indica el tipo de admisión del paciente.\n",
    "\n",
    "discharge_disposition_id: Representa el tipo de alta del paciente.\n",
    "\n",
    "admission_source_id: Indica la fuente de admisión del paciente.\n",
    "\n",
    "time_in_hospital: Representa el tiempo de hospitalización del paciente en días.\n",
    "\n",
    "payer_code: Registra el código del pagador del paciente.\n",
    "\n",
    "medical_specialty: Indica la especialidad médica asociada al paciente.\n",
    "\n",
    "num_lab_procedures: Representa el número de procedimientos de laboratorio realizados para el paciente.\n",
    "\n",
    "num_procedures: Indica el número total de procedimientos realizados para el paciente.\n",
    "\n",
    "num_medications: Registra el número de medicamentos administrados al paciente.\n",
    "\n",
    "number_outpatient: Indica el número de visitas ambulatorias realizadas por el paciente después de la hospitalización.\n",
    "\n",
    "number_emergency: Representa el número de visitas de emergencia realizadas por el paciente después de la hospitalización."
   ]
  },
  {
   "attachments": {},
   "cell_type": "markdown",
   "metadata": {},
   "source": [
    "### Importamos el Data Set"
   ]
  },
  {
   "cell_type": "code",
   "execution_count": 9,
   "metadata": {},
   "outputs": [],
   "source": [
    "# Cargando el dataset diabetes\n",
    "diabetes_path = \"Data Set 3/diabetes.csv\"\n",
    "diabetes_df = pd.read_csv(diabetes_path)"
   ]
  },
  {
   "attachments": {},
   "cell_type": "markdown",
   "metadata": {},
   "source": [
    "### Realizamos Pruebas con el Data Set\n"
   ]
  },
  {
   "cell_type": "code",
   "execution_count": 12,
   "metadata": {},
   "outputs": [
    {
     "name": "stdout",
     "output_type": "stream",
     "text": [
      "Cantidad de registros en el dataset Diabetes: 101766\n"
     ]
    }
   ],
   "source": [
    "# Mostrar la cantidad de registros en el dataset\n",
    "print(\"Cantidad de registros en el dataset Diabetes:\", len(diabetes_df))\n",
    "\n"
   ]
  },
  {
   "cell_type": "code",
   "execution_count": 11,
   "metadata": {},
   "outputs": [
    {
     "name": "stdout",
     "output_type": "stream",
     "text": [
      "Primeras 5 filas del dataset Diabetes:\n",
      "   id  encounter_id  patient_nbr             race  gender      age weight  \\\n",
      "0   1       2278392      8222157        Caucasian  Female   [0-10)      ?   \n",
      "1   2        149190     55629189        Caucasian  Female  [10-20)      ?   \n",
      "2   3         64410     86047875  AfricanAmerican  Female  [20-30)      ?   \n",
      "3   4        500364     82442376        Caucasian    Male  [30-40)      ?   \n",
      "4   5         16680     42519267        Caucasian    Male  [40-50)      ?   \n",
      "\n",
      "   admission_type_id  discharge_disposition_id  admission_source_id  ...  \\\n",
      "0                  6                        25                    1  ...   \n",
      "1                  1                         1                    7  ...   \n",
      "2                  1                         1                    7  ...   \n",
      "3                  1                         1                    7  ...   \n",
      "4                  1                         1                    7  ...   \n",
      "\n",
      "   citoglipton insulin glyburide.metformin  glipizide.metformin  \\\n",
      "0           No      No                  No                   No   \n",
      "1           No      Up                  No                   No   \n",
      "2           No      No                  No                   No   \n",
      "3           No      Up                  No                   No   \n",
      "4           No  Steady                  No                   No   \n",
      "\n",
      "   glimepiride.pioglitazone  metformin.rosiglitazone  metformin.pioglitazone  \\\n",
      "0                        No                       No                      No   \n",
      "1                        No                       No                      No   \n",
      "2                        No                       No                      No   \n",
      "3                        No                       No                      No   \n",
      "4                        No                       No                      No   \n",
      "\n",
      "   change  diabetesMed readmitted  \n",
      "0      No           No         NO  \n",
      "1      Ch          Yes        >30  \n",
      "2      No          Yes         NO  \n",
      "3      Ch          Yes         NO  \n",
      "4      Ch          Yes         NO  \n",
      "\n",
      "[5 rows x 51 columns]\n"
     ]
    }
   ],
   "source": [
    "# Mostrar las primeras 5 filas del dataset\n",
    "print(\"Primeras 5 filas del dataset Diabetes:\")\n",
    "print(diabetes_df.head())\n",
    "\n"
   ]
  },
  {
   "cell_type": "code",
   "execution_count": 15,
   "metadata": {},
   "outputs": [
    {
     "name": "stdout",
     "output_type": "stream",
     "text": [
      "Estadísticas básicas del dataset Diabetes:\n",
      "                  id  encounter_id   patient_nbr  admission_type_id  \\\n",
      "count  101766.000000  1.017660e+05  1.017660e+05      101766.000000   \n",
      "mean    50883.500000  1.652016e+08  5.433040e+07           2.024006   \n",
      "std     29377.458084  1.026403e+08  3.869636e+07           1.445403   \n",
      "min         1.000000  1.252200e+04  1.350000e+02           1.000000   \n",
      "25%     25442.250000  8.496119e+07  2.341322e+07           1.000000   \n",
      "50%     50883.500000  1.523890e+08  4.550514e+07           1.000000   \n",
      "75%     76324.750000  2.302709e+08  8.754595e+07           3.000000   \n",
      "max    101766.000000  4.438672e+08  1.895026e+08           8.000000   \n",
      "\n",
      "       discharge_disposition_id  admission_source_id  time_in_hospital  \\\n",
      "count             101766.000000        101766.000000     101766.000000   \n",
      "mean                   3.715642             5.754437          4.395987   \n",
      "std                    5.280166             4.064081          2.985108   \n",
      "min                    1.000000             1.000000          1.000000   \n",
      "25%                    1.000000             1.000000          2.000000   \n",
      "50%                    1.000000             7.000000          4.000000   \n",
      "75%                    4.000000             7.000000          6.000000   \n",
      "max                   28.000000            25.000000         14.000000   \n",
      "\n",
      "       num_lab_procedures  num_procedures  num_medications  number_outpatient  \\\n",
      "count       101766.000000   101766.000000    101766.000000      101766.000000   \n",
      "mean            43.095641        1.339730        16.021844           0.369357   \n",
      "std             19.674362        1.705807         8.127566           1.267265   \n",
      "min              1.000000        0.000000         1.000000           0.000000   \n",
      "25%             31.000000        0.000000        10.000000           0.000000   \n",
      "50%             44.000000        1.000000        15.000000           0.000000   \n",
      "75%             57.000000        2.000000        20.000000           0.000000   \n",
      "max            132.000000        6.000000        81.000000          42.000000   \n",
      "\n",
      "       number_emergency  number_inpatient  number_diagnoses  \n",
      "count     101766.000000     101766.000000     101766.000000  \n",
      "mean           0.197836          0.635566          7.422607  \n",
      "std            0.930472          1.262863          1.933600  \n",
      "min            0.000000          0.000000          1.000000  \n",
      "25%            0.000000          0.000000          6.000000  \n",
      "50%            0.000000          0.000000          8.000000  \n",
      "75%            0.000000          1.000000          9.000000  \n",
      "max           76.000000         21.000000         16.000000  \n"
     ]
    }
   ],
   "source": [
    "# Obtener estadísticas básicas de las columnas numéricas\n",
    "print(\"Estadísticas básicas del dataset Diabetes:\")\n",
    "print(diabetes_df.describe())\n",
    "\n"
   ]
  },
  {
   "cell_type": "code",
   "execution_count": 14,
   "metadata": {},
   "outputs": [
    {
     "name": "stdout",
     "output_type": "stream",
     "text": [
      "Cantidad de pacientes por raza:\n",
      "Caucasian          76099\n",
      "AfricanAmerican    19210\n",
      "?                   2273\n",
      "Hispanic            2037\n",
      "Other               1506\n",
      "Asian                641\n",
      "Name: race, dtype: int64\n"
     ]
    }
   ],
   "source": [
    "# Contar la cantidad de pacientes por raza\n",
    "print(\"Cantidad de pacientes por raza:\")\n",
    "print(diabetes_df['race'].value_counts())\n",
    "\n"
   ]
  },
  {
   "cell_type": "code",
   "execution_count": 13,
   "metadata": {},
   "outputs": [
    {
     "name": "stdout",
     "output_type": "stream",
     "text": [
      "Promedio de tiempo de hospitalización: 4.395986871843248\n"
     ]
    }
   ],
   "source": [
    "# Calcular el promedio de tiempo de hospitalización\n",
    "promedio_hospitalizacion = diabetes_df['time_in_hospital'].mean()\n",
    "print(\"Promedio de tiempo de hospitalización:\", promedio_hospitalizacion)"
   ]
  }
 ],
 "metadata": {
  "kernelspec": {
   "display_name": "base",
   "language": "python",
   "name": "python3"
  },
  "language_info": {
   "codemirror_mode": {
    "name": "ipython",
    "version": 3
   },
   "file_extension": ".py",
   "mimetype": "text/x-python",
   "name": "python",
   "nbconvert_exporter": "python",
   "pygments_lexer": "ipython3",
   "version": "3.9.13"
  },
  "orig_nbformat": 4
 },
 "nbformat": 4,
 "nbformat_minor": 2
}
